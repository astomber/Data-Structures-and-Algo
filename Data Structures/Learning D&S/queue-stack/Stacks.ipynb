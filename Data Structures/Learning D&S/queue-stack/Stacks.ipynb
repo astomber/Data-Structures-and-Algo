{
 "cells": [
  {
   "cell_type": "code",
   "execution_count": 16,
   "metadata": {},
   "outputs": [
    {
     "name": "stdout",
     "output_type": "stream",
     "text": [
      "All the items of stack \n",
      " ['A', 'B', 'C', 'D', 'E', 'F', 'G', 'H']\n",
      "\n",
      "Pop (Removing) H from the stack\n",
      "All the items of stack \n",
      " ['A', 'B', 'C', 'D', 'E', 'F', 'G']\n",
      "\n",
      "Push (adding) H back into the stack\n",
      "All the items of stack \n",
      " ['A', 'B', 'C', 'D', 'E', 'F', 'G', 'H']\n",
      "\n",
      " checking is it's empty or not\n",
      " No because we still have all the items\n",
      "\n",
      " Peeking the stack aka last item in the stack\n"
     ]
    },
    {
     "data": {
      "text/plain": [
       "'H'"
      ]
     },
     "execution_count": 16,
     "metadata": {},
     "output_type": "execute_result"
    }
   ],
   "source": [
    "#https://www.youtube.com/watch?v=lVFnq4zbs-g&list=PL5tcWHG-UPH112e7AN7C-fwDVPVrt0wpV\n",
    "\n",
    "\"\"\"\n",
    "STACK Data Structure\n",
    "\n",
    "A stack is a data structure that is used to store a list of items in a LIFO (Last In First Out) fashion.\n",
    "\n",
    "\n",
    "\n",
    "1. Put these string letters in a stack A B C D\n",
    "\n",
    "2. LIFO (Last In First Out) principle, so \n",
    "    1. add a book    A\n",
    "    2. add b book    B\n",
    "    3. add c book    C\n",
    "    4. add d book    D\n",
    "\n",
    "Push principle .push() it adds a book to the top of the stack\n",
    "Pop principle .pop() it removes the book from the top of the stack\n",
    "\n",
    "\n",
    "\n",
    "\"\"\"\n",
    "\n",
    "class Stack():\n",
    "    def __init__(self):\n",
    "        self.items = [] #stack uses a list to store the items, empty list initilization\n",
    "\n",
    "    def push(self, item):\n",
    "        self.items.append(item) #adding to the stack taking an item in, pushing to the top of the stack so .append() = add to end of List\n",
    "\n",
    "    def pop(self):\n",
    "        return self.items.pop()  #removing from the top of the stack, so returning the last item in the list, LIFO principle\n",
    "\n",
    "    def get_stack(self): #getting all the items from our stack\n",
    "        return self.items\n",
    "\n",
    "    def peek(self):  #returning the top most element in the stack, aka last item in the stack\n",
    "        return self.items[-1]\n",
    "\n",
    "    def is_empty(self):  #returning if stack is empty or not\n",
    "        return self.items == []\n",
    "\n",
    "    def size(self):\n",
    "        return len(self.items)\n",
    "\n",
    "s1 = Stack() #initializing our stack object with class Stack\n",
    "\n",
    "\n",
    "for x in \"ABCDEFGH\":  #looping through A-F \n",
    "    s1.push(x) #adding the letters to the stack \n",
    "\n",
    "print(\"All the items of stack \\n\",s1.get_stack())\n",
    "\n",
    "print(\"\\nPop (Removing) H from the stack\") #LIFO principle, so removing H from the stack\n",
    "s1.pop()\n",
    "print(\"All the items of stack \\n\",s1.get_stack())\n",
    "\n",
    "print(\"\\nPush (adding) H back into the stack\")\n",
    "s1.push(\"H\")\n",
    "print(\"All the items of stack \\n\",s1.get_stack())\n",
    "\n",
    "print(\"\\n checking is it's empty or not\")\n",
    "print(\" No because we still have all the items\")\n",
    "\n",
    "s1.is_empty() #boolean value\n",
    "\n",
    "print(\"\\n Peeking the stack aka last item in the stack\")\n",
    "s1.peek()\n",
    "\n"
   ]
  },
  {
   "cell_type": "code",
   "execution_count": 31,
   "metadata": {},
   "outputs": [
    {
     "data": {
      "text/plain": [
       "True"
      ]
     },
     "execution_count": 31,
     "metadata": {},
     "output_type": "execute_result"
    }
   ],
   "source": [
    "#Stack Practice Problem\n",
    "#https://www.youtube.com/watch?v=TC7apM-xGaU&list=PL5tcWHG-UPH112e7AN7C-fwDVPVrt0wpV&index=2\n",
    "\n",
    "\"\"\"\n",
    "Use a stack to check whether or not a string\n",
    "has balanced usage of parenthesis.\n",
    "Example:\n",
    "    (), ()(), (({[]}))  <- Balanced.\n",
    "    ((), {{{)}], [][]]] <- Not Balanced.\n",
    "Balanced Example: {[]}\n",
    "Non-Balanced Example: (()\n",
    "Non-Balanced Example: ))\n",
    "\"\"\"\n",
    "#have to start with an opening parenthsee, so #opening neeeds to match #closing, so ex: ((())) -> valid \n",
    "s2 = \"()()\"\n",
    "s1= \"(()\"\n",
    "\n",
    "def isValid( s):\n",
    "        stack, lookup = [], {\"(\": \")\", \"{\": \"}\", \"[\": \"]\"}\n",
    "        for parenthese in s:\n",
    "            if parenthese in lookup:\n",
    "                stack.append(parenthese)\n",
    "            elif len(stack) == 0 or lookup[stack.pop()] != parenthese:\n",
    "                return False\n",
    "        return len(stack) == 0\n",
    "\n",
    "\n",
    "isValid(s2)\n",
    "\n",
    "\n",
    "\n",
    "\n",
    "\n",
    "\n",
    "\n",
    "\n",
    "#O(n) complexity\n",
    "\n",
    "\n"
   ]
  },
  {
   "cell_type": "code",
   "execution_count": 5,
   "metadata": {},
   "outputs": [
    {
     "data": {
      "text/plain": [
       "'11110010'"
      ]
     },
     "execution_count": 5,
     "metadata": {},
     "output_type": "execute_result"
    }
   ],
   "source": [
    "\"\"\"\n",
    "Use a stack to convert an integer value to binary\n",
    "\n",
    "\"\"\"\n",
    "\n",
    "\n",
    "def int_to_bin(num):\n",
    "    stack = []\n",
    "    \n",
    "\n",
    "    while num > 0:\n",
    "        remainder = num % 2\n",
    "        stack.append(remainder) #pushing to stack\n",
    "        num = num //2 #num = num //2, we don't care about fractions\n",
    "    \n",
    "    binaryNum = \"\"\n",
    "\n",
    "    while len(stack) != 0:  #while stack is not empty\n",
    "        binaryNum += str(stack.pop()) #first poping (removing) from stack then concatnating to our string variable\n",
    "    return binaryNum\n",
    "\n",
    "    \n",
    "int_to_bin(242)                     "
   ]
  },
  {
   "cell_type": "code",
   "execution_count": 15,
   "metadata": {},
   "outputs": [
    {
     "name": "stdout",
     "output_type": "stream",
     "text": [
      "olleh\n"
     ]
    }
   ],
   "source": [
    "#reversing a string using a stack, way too much code originally you could just do print(\"Hello World\"[::-1])\n",
    "\n",
    "input_str = \"hello\"\n",
    "stack = []\n",
    "revStr = \"\"\n",
    "for char in range (len(input_str)): #looping through string charchter by charchter\n",
    "    stack.append(input_str[char])  #pushing (.append())) to our stack\n",
    "\n",
    "while stack:         #while stack is not empty\n",
    "    revStr += stack.pop()   #popping from our stack, then conatnating to our empty new string\n",
    "\n",
    "print(revStr)\n",
    "\n",
    "\n"
   ]
  }
 ],
 "metadata": {
  "kernelspec": {
   "display_name": "Python 3 (ipykernel)",
   "language": "python",
   "name": "python3"
  },
  "language_info": {
   "codemirror_mode": {
    "name": "ipython",
    "version": 3
   },
   "file_extension": ".py",
   "mimetype": "text/x-python",
   "name": "python",
   "nbconvert_exporter": "python",
   "pygments_lexer": "ipython3",
   "version": "3.9.5"
  },
  "vscode": {
   "interpreter": {
    "hash": "eb6b8034d7a7fc7fa4849282796263e9449e9c6ff5fd514944a17fb524ab09c3"
   }
  }
 },
 "nbformat": 4,
 "nbformat_minor": 2
}
