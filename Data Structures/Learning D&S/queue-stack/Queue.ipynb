{
 "cells": [
  {
   "cell_type": "code",
   "execution_count": null,
   "metadata": {},
   "outputs": [],
   "source": [
    "'''\n",
    "THINK OF IT LIKE BEING IN LINE\n",
    "\n",
    "GREEDY ALGO\n",
    "Queues are the opposite of stacks\n",
    "    FIFO principle: First in Finrst out\n",
    "\n",
    "\n",
    "\n",
    "    1. Enqueue to add an item to the end of the line\n",
    "        EX: 1,2,3,4 -> Enqueue(5) = 1,2,3,4,5\n",
    "\n",
    "    2. Dequeue to remove an item from the front of the line\n",
    "     EX: 1,2,3,4 -> Dequeue(1) = 2,3,4\n",
    "\n",
    "    Cases:\n",
    "        Good for ordering food at a restraunt and keeping track\n",
    "        Supermarket Checkout\n",
    "    \n",
    "    Run Time:\n",
    "    O(1), for all cases because were just removing one item\n",
    "'''"
   ]
  },
  {
   "cell_type": "code",
   "execution_count": 2,
   "metadata": {},
   "outputs": [
    {
     "name": "stdout",
     "output_type": "stream",
     "text": [
      "deque([5, 10])\n",
      "5\n",
      "deque([10])\n"
     ]
    }
   ],
   "source": [
    "#We use append() to enqueue an item, and popleft() to dequeue an item.\n",
    "from collections import deque\n",
    "\n",
    "my_queue = deque() #creating a queue\n",
    "\n",
    "my_queue.append(5) #We use append() to enqueue an item,  add items to the end of the line\n",
    "my_queue.append(10) #We use append() to enqueue an item,  add items to the end of the line\n",
    "\n",
    "print(my_queue)\n",
    "\n",
    "print(my_queue.popleft()) #We use popleft() to dequeue an item to remove an item from the front of the line, DONT USE POP\n",
    "\n",
    "print(my_queue)\n",
    "\n",
    "\n",
    "\n"
   ]
  }
 ],
 "metadata": {
  "kernelspec": {
   "display_name": "Python 3.9.5 64-bit",
   "language": "python",
   "name": "python3"
  },
  "language_info": {
   "codemirror_mode": {
    "name": "ipython",
    "version": 3
   },
   "file_extension": ".py",
   "mimetype": "text/x-python",
   "name": "python",
   "nbconvert_exporter": "python",
   "pygments_lexer": "ipython3",
   "version": "3.9.5"
  },
  "orig_nbformat": 4,
  "vscode": {
   "interpreter": {
    "hash": "eb6b8034d7a7fc7fa4849282796263e9449e9c6ff5fd514944a17fb524ab09c3"
   }
  }
 },
 "nbformat": 4,
 "nbformat_minor": 2
}
