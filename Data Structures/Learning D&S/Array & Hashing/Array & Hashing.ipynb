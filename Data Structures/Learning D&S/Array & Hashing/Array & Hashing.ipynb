{
 "cells": [
  {
   "cell_type": "code",
   "execution_count": 1,
   "metadata": {},
   "outputs": [
    {
     "data": {
      "text/plain": [
       "[2, 3]"
      ]
     },
     "execution_count": 1,
     "metadata": {},
     "output_type": "execute_result"
    }
   ],
   "source": [
    "#Two Sum problem\n",
    "'''\n",
    "Given an array A = [1,2,3,4,5]\n",
    "target = 7, return the index of the 2 numbers that add up to the target\n",
    "'''\n",
    "def twoSum(arr,target):\n",
    "        hash_map = {}  # val -> index\n",
    "\n",
    "        for index, value in enumerate(arr):\n",
    "            diff = target - value \n",
    "            if diff in hash_map:\n",
    "                return [hash_map[diff], index]\n",
    "            hash_map[value] = index\n",
    "\n",
    "\n",
    "arr = [1,2,3,4,5]\n",
    "target = 7\n",
    "twoSum(arr, target)\n",
    "\n",
    "\n",
    "\n",
    "\n",
    "\n",
    "\n",
    "\n",
    "\n",
    "\n",
    "\n",
    "\n"
   ]
  }
 ],
 "metadata": {
  "kernelspec": {
   "display_name": "Python 3.9.5 64-bit",
   "language": "python",
   "name": "python3"
  },
  "language_info": {
   "codemirror_mode": {
    "name": "ipython",
    "version": 3
   },
   "file_extension": ".py",
   "mimetype": "text/x-python",
   "name": "python",
   "nbconvert_exporter": "python",
   "pygments_lexer": "ipython3",
   "version": "3.9.5"
  },
  "orig_nbformat": 4,
  "vscode": {
   "interpreter": {
    "hash": "eb6b8034d7a7fc7fa4849282796263e9449e9c6ff5fd514944a17fb524ab09c3"
   }
  }
 },
 "nbformat": 4,
 "nbformat_minor": 2
}
