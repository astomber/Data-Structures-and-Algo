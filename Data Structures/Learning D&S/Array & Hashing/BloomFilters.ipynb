{
 "cells": [
  {
   "cell_type": "code",
   "execution_count": 1,
   "metadata": {},
   "outputs": [
    {
     "data": {
      "text/plain": [
       "'\\nBloom filters: \"Lightweight version of a hash table, great for insertion and lookup\\n\\nbut searching can sometimes have false poitives like an item exists but it doesn\\'t, but will never get false negatives such as an item is not in list which it actually IS\\n\\nUse Cases:\\nLike a blacklist from accessing your data or an unwanted person\\n\\n\\nLike if you have a website and you need to check if someone from the block list is trying to access it\\n'"
      ]
     },
     "execution_count": 1,
     "metadata": {},
     "output_type": "execute_result"
    }
   ],
   "source": [
    "\"\"\"\n",
    "Bloom filters: \"Lightweight version of a hash table, great for insertion and lookup\n",
    "\n",
    "but searching can sometimes have false poitives like an item exists but it doesn't, but will never get false negatives such as an item is not in list which it actually IS\n",
    "\n",
    "Use Cases:\n",
    "Like a blacklist from accessing your data or an unwanted person\n",
    "\n",
    "\n",
    "Like if you have a website and you need to check if someone from the block list is trying to access it\n",
    "\"\"\"\n"
   ]
  },
  {
   "cell_type": "code",
   "execution_count": null,
   "metadata": {},
   "outputs": [],
   "source": [
    "import pyhash \n",
    "bit_vector = [0] * 20  #bit factor of 20 zeros, \n",
    "\n",
    "#cryptographic function, library like pyhash"
   ]
  }
 ],
 "metadata": {
  "kernelspec": {
   "display_name": "Python 3.9.5 64-bit",
   "language": "python",
   "name": "python3"
  },
  "language_info": {
   "codemirror_mode": {
    "name": "ipython",
    "version": 3
   },
   "file_extension": ".py",
   "mimetype": "text/x-python",
   "name": "python",
   "nbconvert_exporter": "python",
   "pygments_lexer": "ipython3",
   "version": "3.9.5"
  },
  "orig_nbformat": 4,
  "vscode": {
   "interpreter": {
    "hash": "eb6b8034d7a7fc7fa4849282796263e9449e9c6ff5fd514944a17fb524ab09c3"
   }
  }
 },
 "nbformat": 4,
 "nbformat_minor": 2
}
